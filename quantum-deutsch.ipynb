{
 "cells": [
  {
   "cell_type": "markdown",
   "id": "e9eff414-9f6d-437c-8c97-62baa8f52e84",
   "metadata": {},
   "source": [
    "<h2>Quantum Computing</h2>\n",
    "<h4>So, what is Quantum Computing?</h4>\n",
    "<p>Quantum computing is an area in computing in which quantum physics is utilised in order to solve complex computational problems. The word quantum refers to the smallest physical unit. Similar to classical computing which solves problems using bits, a quantum computer solves its problems by processing the state of what are know as 'Qubits' or 'Quantum Bits'. Unlike a bit, which can only be in a state of 1 or 0, a qubit is able to be 1, 0 or anywhere inbetween. While classical computers are perfect for day to day tasks, they lack the speed and computing power to solves the most complex of problems it is in this scenario where quantum computers come into their own. Yes, you can add more transistors to a classical computer to increase its computational power however, this will only ever increase its power linearly. When more qubits are added to a quantum computer the computational power increases exponentially thus making them perfect for the most complex of problems.</p>\n",
    "\n",
    "<p>Quantum computers work thanks to the help of three quantum physics concepts:\n",
    "<ol>\n",
    "    <li>Superposition</li>\n",
    "    <li>Entanglement</li>\n",
    "    <li>Interference</li>\n",
    "</ol>\n",
    "</p>\n",
    "\n",
    "<h3>Superposition</h3>\n",
    "<p>Superposition refers to the state in which a qubit can be found in. Unlike a bit, which can only be found in a state of 1 or 0, a qubit has the ability to be found in a state of 1, 0 or anywhere in-between. The capability of this results in the quantum computers power as the qubits can take all computational paths simultaneously thus speeding up the process of solving the problem at hand.</p>\n",
    "\n",
    "<h3>Entanglement</h3>\n",
    "<p>Entanglement is the idea of two qubits invading eachothers space and becoming 'entangled'. When this happens they form a single system and become correlated. The idea of entanglement helps the quantum computer by increasing it computational power when solving complex problems as one qubit helps to predict the details of the entangled qubits.</p>\n",
    "\n",
    "<h3>Interference</h3>\n",
    "<p>Interference is allso known as bias. This is when the position of the qubit is altered towards the desired output. Interference is allow to happen due to the superposition of a qubit.</p>\n"
   ]
  },
  {
   "cell_type": "code",
   "execution_count": null,
   "id": "419c8634-47b2-44b0-9ec2-53e2b1833dfa",
   "metadata": {},
   "outputs": [],
   "source": []
  }
 ],
 "metadata": {
  "kernelspec": {
   "display_name": "Python 3",
   "language": "python",
   "name": "python3"
  },
  "language_info": {
   "codemirror_mode": {
    "name": "ipython",
    "version": 3
   },
   "file_extension": ".py",
   "mimetype": "text/x-python",
   "name": "python",
   "nbconvert_exporter": "python",
   "pygments_lexer": "ipython3",
   "version": "3.8.8"
  }
 },
 "nbformat": 4,
 "nbformat_minor": 5
}
