{
 "cells": [
  {
   "cell_type": "markdown",
   "id": "e9eff414-9f6d-437c-8c97-62baa8f52e84",
   "metadata": {
    "tags": []
   },
   "source": [
    "<h1>Quantum vs Classical Computing</h1>\n",
    "<h4>What is Classical Computing?</h4>\n",
    "<p>The birth of computing as an area of growth for science and technology can be traced back to the creation of the ENIAC (Eletronic Numerical Integrator and Computer) in 1945. Since their conception, the task of classical computers over the past seven decades has remained largely the same: convert a string of binary bits into understandable computational results. \n",
    "Classical computers carry out logical operations based off of the value of a physical state known as a bit. Bits can be set to either 0 or 1 and have to be one or the other but not both.  Over time, through mass production and increased competition within the field, computers have evolved to become more compact and aesthetically appealing for ordinary consumers.  In addition to this, they have also become much faster at performing logical operations in an efficient and user friendly manner. These developments have been made possible by the work of William Shockley, John Bardeen and Walter Brattain who introduced the world to transistors, with Gordon Teal and Jack Kilby also making significant contributions to the field that built on the initial discovery.\n",
    "\n",
    "Despite these advancements, the sheer societal dominance, and the obvious success of classical computers, they remain somewhat 'bottle necked' by their defining operational feature. This is owing to the fact that adding more bits can only expand the processing power of the machine linearly. An additional shortcoming of classical computers is the fact that the bits are independent of each other meaning one bit cannot affect the state of another and this is where quantum computers possess a distinct edge. It is important to note that quantum computers are not intended to be replacements for classical computers, instead they are intended to be a 'different kind of computer', engineered for specific applications.</p>\n",
    "\n",
    "<h4>So, what is Quantum Computing?</h4>\n",
    "<p>Quantum computing is an area in computing in which quantum physics is utilised in order to solve complex computational problems. The word quantum refers to the smallest physical unit. Similar to classical computers, a quantum computer carries out its operations by processing the state of bits only this time the bits are known as qubits. Unlike a bit that can only be found in one state (0 or 1) a qubit can be in many states at once. You can think of a qubit like an arrow in a sphere. When measuring a qubit you are still given a value of either 0 or 1 however which value you get is set off a probability based off the direction of the arrow. In this way, ‘the concept of qubit can be regarded as a quantum variant of the classical concept of bit’ (Dalla Chiara). If the arrow points up the qubits value is 0. If the arrow points down the qubits value is 1. If the arrow is pointing more upwards there is a higher probability that the qubit has a value of 0, similarly if the arrow is pointing more down there is a higher chance of the qubit returning the value 1. The arrow may also be found on the equator of the circle, if this is the case the qubit has equal chance of being 0 or 1. As a result of this, the arrow can be found pointing in any linear combination (or superposition) of the binary states of 1 and 0.</p>\n",
    "\n",
    "<p>Quantum computers work thanks to the help of three quantum physics concepts:\n",
    "<ol>\n",
    "    <li>Superposition</li>\n",
    "    <li>Entanglement</li>\n",
    "    <li>Interference</li>\n",
    "</ol>\n",
    "</p>\n",
    "\n",
    "<h3>Superposition</h3>\n",
    "<p>Superposition refers to the state in which a qubit can be found in. Unlike a bit, which can only be found in a state of 1 or 0, a qubit has the ability to be found in a state of 1, 0 or anywhere in-between. The capability of this results in the quantum computers power as the qubits can take all computational paths simultaneously thus speeding up the process of solving the problem at hand.</p>\n",
    "\n",
    "<h3>Entanglement</h3>\n",
    "<p>As previously mentioned, the bits in a classical computer are independent of each other and cannot affect each other’s states however, this is not the case with qubits. In a quantum computer it is possible for its qubits to become entangled with each other and become part of one quantum state together. Two qubits in different states that are not entangled yet have their own independent probabilities. When they become entangled we throw away those independent probabilities and instead calculate a probability distribution of all the possible states; 00, 01, 10, 11. As the qubits are now entangled, if the arrow on one qubit changes it then changes the probability distribution for the whole system. The qubits are no longer independent of each other, they are now part of the same large state, no matter how many qubits are entangled. The number of states in the probability distribution doubles every time another qubit is entangled. E.g., 1 qubit has a probability distribution of 2, 2 of 4, 3 of 8, 4 of 16 etc. a quantum computer with N qubits can be in a combination of $2^n$ states. First proposed by Schrodinger (1935), as ‘the characteristic trait’ of quantum computers, it is this entanglement that performs as a catalyst for quantum computers departure from classical lines of thought allowing the processing power of the quantum computer to grow exponentially in comparison to classical, binary computers. Adding more qubits is the key to improving performance as the more qubits you add, the more complex the problems you are able to solve.</p>\n",
    "\n",
    "<h3>Interference</h3>\n",
    "<p>A qubit does not actually look like a sphere, this is just a nice way to visualise it. Qubits are described as a more abstract entity known as a quantum wave function. When you have many qubits entangled together, all their wave functions are added together into an overall wave function that describes the state of the quantum computer. This coming together of wave functions is known as interference which can be either constructive or destructive. When we add waves together, they can constructively interfere to create a bigger wave or destructively interfere to cancel each other out. This overall wave function of the quantum computer is what sets the different probabilities of the different states. By changing the states of different qubits, we can change the probability at which different states come out. Even though the quantum computer can be in a superposition of millions of states at one time, when we measure it, we only get a single state out. When using a quantum computer to solve a computation problem, you need to use constructive interference to increase the probability of the correct answer coming out and destructive interference to decrease the probability of the incorrect answer coming out.</p>\n",
    "<hr>"
   ]
  },
  {
   "cell_type": "markdown",
   "id": "21719a18-f90a-475f-99d8-e3306bbb6ebc",
   "metadata": {
    "tags": []
   },
   "source": [
    "<h2>Deutsch's Algorithm</h2>\n",
    "<p>David Deutsch is considered to be the first to show how different a quantum computer computes a problem from a classical computer. The algorithm he used to show this came to be know as 'Deutsch's Algorithm'.</p>\n",
    "<h4>Defining the problem</h4>\n",
    "<p>f is a that takes in 0 or 1 as an input and returns 0 or 1 as an output. The function is said to be either a balanced function or a constant function. A function is said to be balanced when it returns 0 as the output 50% of the time and 1 as the output for the other 50% of inputs. A function is said to be constant when it gives out the same output (1 or 0) forr every input it is given.</p>\n",
    "<ul>\n",
    "ƒ : 0,1 → 0,1\n",
    "    <li>if ƒ(0) = 1, ƒ(1) = 0 the function is balanced</li>\n",
    "    <li>if ƒ(0) = 0, ƒ(1) = 1 the function is balanced</li>\n",
    "    <li>if ƒ(0) = 1, ƒ(1) = 1 the function is constant</li>\n",
    "    <li>if ƒ(0) = 0, ƒ(1) = 0 the function is constant</li>\n",
    "</ul>\n",
    "<p>The aim of this is to find out weather the function is constant or balanced.</p>\n",
    "<h4>Solving this problem using a classical solution</h4>\n",
    "<p>In order to decide the function type, we must check the output twice. However, when the number of input bits(n) increases the workload grows exponentially. The functions output has to be check 2^n-1 +1 times in order to decide its function type.</p>\n",
    "<p>Deutsch's algorithm address this issue and is capable of evaluating the problem with a single function using quantum mechanics.</p>\n",
    "<hr>"
   ]
  },
  {
   "cell_type": "markdown",
   "id": "285efa69-471d-41fb-a0c3-bebf8f0d6f5b",
   "metadata": {},
   "source": [
    "<h1>Simulating Deutsch's algorithm using qiskit</h1>"
   ]
  },
  {
   "cell_type": "code",
   "execution_count": null,
   "id": "9dc0f75c-e88b-4ecc-8190-1d3160dfac72",
   "metadata": {},
   "outputs": [],
   "source": [
    "# Qiskit itself\n",
    "import qiskit\n",
    "\n",
    "# Aer simulator.\n",
    "import qiskit.providers.aer as aer\n",
    "\n",
    "# Diagrams.\n",
    "import matplotlib.pyplot as plt\n",
    "\n",
    "# Change pyplot style.\n",
    "plt.style.use('ggplot')"
   ]
  },
  {
   "cell_type": "markdown",
   "id": "7fc469e0-7fda-453b-8e4c-7dd07d472a53",
   "metadata": {},
   "source": [
    "<h1>Constant Zero Function</h1>\n",
    "<h4>1. Creating a 1-qubit circuit</h4>"
   ]
  },
  {
   "cell_type": "code",
   "execution_count": null,
   "id": "f1b57913-e6b1-4c6b-baa0-3694ac4b105a",
   "metadata": {},
   "outputs": [],
   "source": [
    "circuit = qiskit.QuantumCircuit(2, 1)\n",
    "\n",
    "# Initialise the first qubit to |0>.\n",
    "circuit.initialize([1, 0], 0)\n",
    "\n",
    "# Initialise the second qubit to |1>.\n",
    "circuit.initialize([0, 1], 1)\n",
    "\n",
    "# Draw the circuit.\n",
    "circuit.draw(output='mpl', scale=1.8)"
   ]
  },
  {
   "cell_type": "markdown",
   "id": "3db22355-d3ce-48ea-8b62-dc62cd7920ab",
   "metadata": {},
   "source": [
    "<h4>2. Apply a Hadamard gate to all qubits</h4>"
   ]
  },
  {
   "cell_type": "code",
   "execution_count": null,
   "id": "dd5c4040-93fb-4ea3-9c6e-06c772aa7b9a",
   "metadata": {},
   "outputs": [],
   "source": [
    "circuit.h(0)\n",
    "circuit.h(1)\n",
    "\n",
    "# Draw the circuit.\n",
    "circuit.draw(output='mpl', scale=1.8)"
   ]
  },
  {
   "cell_type": "markdown",
   "id": "b56ee1f9-2d9d-41be-b878-9f1b599d1155",
   "metadata": {},
   "source": [
    "<h4>3. Apply Hadamard gate to the first qubit and Identity gate to second qubit</h4>"
   ]
  },
  {
   "cell_type": "code",
   "execution_count": null,
   "id": "7e5b687c-5854-4b1f-b0da-343fbe12e58e",
   "metadata": {},
   "outputs": [],
   "source": [
    "circuit.i(1)\n",
    "circuit.h(0)\n",
    "\n",
    "# Measure the first qubit.\n",
    "circuit.measure(0, 0)\n",
    "\n",
    "# Draw the circuit.\n",
    "circuit.draw(output='mpl', scale=1.8)"
   ]
  },
  {
   "cell_type": "code",
   "execution_count": null,
   "id": "1392b713-daad-420d-b20e-f67aad8e1d9f",
   "metadata": {},
   "outputs": [],
   "source": [
    "# Create a simulation instance.\n",
    "simulator = aer.QasmSimulator()"
   ]
  },
  {
   "cell_type": "code",
   "execution_count": null,
   "id": "34bb7aad-8b86-4110-9de4-828b708964ec",
   "metadata": {},
   "outputs": [],
   "source": [
    "# Compile the circuit in the simluator.\n",
    "compcircuit = qiskit.transpile(circuit, simulator)"
   ]
  },
  {
   "cell_type": "code",
   "execution_count": null,
   "id": "7e77b0bb-0550-4113-a4d1-8ce252302fc5",
   "metadata": {},
   "outputs": [],
   "source": [
    "# Simulate the circuit 1000 times.\n",
    "job = simulator.run(compcircuit, shots=1000)"
   ]
  },
  {
   "cell_type": "code",
   "execution_count": null,
   "id": "d5e27375-a70d-403d-af0e-975f1f682dfb",
   "metadata": {},
   "outputs": [],
   "source": [
    "# Get the results.\n",
    "results = job.result()"
   ]
  },
  {
   "cell_type": "code",
   "execution_count": null,
   "id": "d6722c92-281e-4f54-8a8c-f35373ab56a7",
   "metadata": {},
   "outputs": [],
   "source": [
    "# Show the result counts.\n",
    "counts = results.get_counts()\n",
    "counts"
   ]
  },
  {
   "cell_type": "code",
   "execution_count": null,
   "id": "8201ea86-7db5-410f-bb93-d1e9bd8f4487",
   "metadata": {},
   "outputs": [],
   "source": [
    "# Display histogram\n",
    "qiskit.visualization.plot_histogram(counts, figsize=(1, 4))"
   ]
  }
 ],
 "metadata": {
  "kernelspec": {
   "display_name": "Python 3",
   "language": "python",
   "name": "python3"
  },
  "language_info": {
   "codemirror_mode": {
    "name": "ipython",
    "version": 3
   },
   "file_extension": ".py",
   "mimetype": "text/x-python",
   "name": "python",
   "nbconvert_exporter": "python",
   "pygments_lexer": "ipython3",
   "version": "3.8.8"
  }
 },
 "nbformat": 4,
 "nbformat_minor": 5
}
